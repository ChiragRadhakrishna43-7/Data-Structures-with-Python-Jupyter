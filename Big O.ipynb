{
 "cells": [
  {
   "cell_type": "markdown",
   "id": "8285648b",
   "metadata": {},
   "source": [
    "# What is Big O?"
   ]
  },
  {
   "cell_type": "markdown",
   "id": "7d4de7fd",
   "metadata": {},
   "source": [
    "Big O helps compare two sets of code."
   ]
  },
  {
   "cell_type": "markdown",
   "id": "a1c5cdd8",
   "metadata": {},
   "source": [
    "It helps determine how effecient an algorithm runs mathematically. We measure both space complexity and time complexity."
   ]
  },
  {
   "cell_type": "code",
   "execution_count": 1,
   "id": "5ef0b6d2",
   "metadata": {},
   "outputs": [],
   "source": [
    "# Ω : Best case scenario for running a piece of code (Omega).\n",
    "\n",
    "# Θ : Average case scenario for running a piece of code (Theta).\n",
    "\n",
    "# O : Worst case scenario for running a piece of code (Big O)."
   ]
  },
  {
   "cell_type": "markdown",
   "id": "26db4484",
   "metadata": {},
   "source": [
    "# O(n)"
   ]
  },
  {
   "cell_type": "code",
   "execution_count": 2,
   "id": "7a5cc618",
   "metadata": {},
   "outputs": [
    {
     "name": "stdout",
     "output_type": "stream",
     "text": [
      "0\n",
      "1\n",
      "2\n",
      "3\n",
      "4\n"
     ]
    }
   ],
   "source": [
    "def print_items(n):\n",
    "    for i in range(n):\n",
    "        print(i)\n",
    "        \n",
    "print_items(5)"
   ]
  },
  {
   "cell_type": "markdown",
   "id": "a75a47ab",
   "metadata": {},
   "source": [
    "#### The above program is an example of O(n). The graph is a straight line and is proportional."
   ]
  },
  {
   "cell_type": "code",
   "execution_count": 3,
   "id": "bf665bde",
   "metadata": {},
   "outputs": [
    {
     "name": "stdout",
     "output_type": "stream",
     "text": [
      "0\n",
      "1\n",
      "2\n",
      "3\n",
      "4\n",
      "5\n",
      "6\n",
      "7\n",
      "8\n",
      "9\n",
      "0\n",
      "1\n",
      "2\n",
      "3\n",
      "4\n",
      "5\n",
      "6\n",
      "7\n",
      "8\n",
      "9\n"
     ]
    }
   ],
   "source": [
    "# simplify Big O Notation: TECHNIQUE 1\n",
    "\n",
    "# Achieved by dropping constants.\n",
    "\n",
    "def print_items(n):\n",
    "    for i in range(n):\n",
    "        print(i)\n",
    "    \n",
    "    for j in range(n):\n",
    "        print(j)\n",
    "        \n",
    "print_items(10)"
   ]
  },
  {
   "cell_type": "markdown",
   "id": "388443f2",
   "metadata": {},
   "source": [
    "#### The above program runs n + n = 2n times. Here, we drop the constant 2. Hence the above program is also an example of O(n) not O(2n)."
   ]
  },
  {
   "cell_type": "markdown",
   "id": "354647dd",
   "metadata": {},
   "source": [
    "# O(n^2)"
   ]
  },
  {
   "cell_type": "code",
   "execution_count": 4,
   "id": "06a95d26",
   "metadata": {},
   "outputs": [
    {
     "name": "stdout",
     "output_type": "stream",
     "text": [
      "0 0\n",
      "0 1\n",
      "0 2\n",
      "0 3\n",
      "0 4\n",
      "1 0\n",
      "1 1\n",
      "1 2\n",
      "1 3\n",
      "1 4\n",
      "2 0\n",
      "2 1\n",
      "2 2\n",
      "2 3\n",
      "2 4\n",
      "3 0\n",
      "3 1\n",
      "3 2\n",
      "3 3\n",
      "3 4\n",
      "4 0\n",
      "4 1\n",
      "4 2\n",
      "4 3\n",
      "4 4\n"
     ]
    }
   ],
   "source": [
    "# program for O(n^2)-\n",
    "\n",
    "def print_items(n):\n",
    "    for i in range(n):\n",
    "        for j in range(n):\n",
    "            print(i,j)\n",
    "            \n",
    "print_items(5)"
   ]
  },
  {
   "cell_type": "markdown",
   "id": "1d1e18d7",
   "metadata": {},
   "source": [
    "#### The above program executes n*n times. Hence the time complexity is O(n^2). \n",
    "\n",
    "The graph of O(n^2) is much steeper than that of O(n). It is less efficient with respect to the time complexity standpoint."
   ]
  },
  {
   "cell_type": "code",
   "execution_count": null,
   "id": "446c7435",
   "metadata": {},
   "outputs": [],
   "source": [
    "# simplify Big O Notation: TECHNIQUE 2\n",
    "\n",
    "# Drop the non-dominants.\n",
    "\n",
    "def print_items(n):\n",
    "    for i in range(n):\n",
    "        for j in range(n):\n",
    "            print(i,j)\n",
    "            \n",
    "    for k in range(n):\n",
    "        print(k)\n",
    "            \n",
    "print_items(10)"
   ]
  },
  {
   "cell_type": "markdown",
   "id": "b5a4f50a",
   "metadata": {},
   "source": [
    "#### For the above program, the time complexity for the nested loop and single loop is O(n^2) and O(n) respectively.\n",
    "\n",
    "The time complexity can be written as O(n^2) + O(n) = O(n^2 + n).\n",
    "\n",
    "For large values of n: Considering the overall number of operations involved, n^2 is dominant than n. Thus n is the non-dominant term. Hence, we can simplify the expression by dropping n.\n",
    "\n",
    "The time complexity of the above program will be O(n^2)."
   ]
  },
  {
   "cell_type": "markdown",
   "id": "4f497d86",
   "metadata": {},
   "source": [
    "# Big O : O(1)"
   ]
  },
  {
   "cell_type": "code",
   "execution_count": null,
   "id": "2b67bd88",
   "metadata": {},
   "outputs": [],
   "source": [
    "def print_items(n):\n",
    "    return n+n"
   ]
  },
  {
   "cell_type": "markdown",
   "id": "6657436a",
   "metadata": {},
   "source": [
    "#### O(1) is termed as constant time.\n",
    "\n",
    "In the above program, regardless of the value of n, only a single operation (addition) is performed. Hence the time complexity is O(1)."
   ]
  },
  {
   "cell_type": "markdown",
   "id": "8c093a4b",
   "metadata": {},
   "source": [
    "The time complexity will remain constant even if the number of addition operations increases as the number of operations will remain constant for all n."
   ]
  },
  {
   "cell_type": "markdown",
   "id": "122adfb1",
   "metadata": {},
   "source": [
    "#### The graph of O(1) is a straight line that touches the X-axis."
   ]
  },
  {
   "cell_type": "markdown",
   "id": "8aac1f67",
   "metadata": {},
   "source": [
    "# Big O : O(logn)"
   ]
  },
  {
   "cell_type": "markdown",
   "id": "a2560d5b",
   "metadata": {},
   "source": [
    "\"log n\" represents the logarithm base 2 of the input size \"n\".\n",
    "\n",
    "An algorithm with O(log n) time complexity often implies that it has a divide-and-conquer or binary search approach. These algorithms typically divide the problem into smaller subproblems, solve each subproblem independently, and combine the results to get the final solution.\n",
    "\n",
    "Example: Binary Search"
   ]
  },
  {
   "cell_type": "markdown",
   "id": "ef2e6e7b",
   "metadata": {},
   "source": [
    "#### O(log n) denotes a logarithmic time complexity, indicating efficient algorithms that scale well with larger input sizes."
   ]
  },
  {
   "cell_type": "markdown",
   "id": "e931f584",
   "metadata": {},
   "source": [
    "#### The graph of O(logn) is nearer to the X-axis. O(logn) is much more efficient than O(n^2) and O(n)."
   ]
  },
  {
   "cell_type": "markdown",
   "id": "350cd40a",
   "metadata": {},
   "source": [
    "# Problems"
   ]
  },
  {
   "cell_type": "code",
   "execution_count": 5,
   "id": "96a8f5aa",
   "metadata": {},
   "outputs": [],
   "source": [
    "#1\n",
    "\n",
    "def print_items(a,b):\n",
    "    for i in range(a):\n",
    "        print(i)\n",
    "    \n",
    "    for j in range(b):\n",
    "        print(j)"
   ]
  },
  {
   "cell_type": "markdown",
   "id": "0a295bcd",
   "metadata": {},
   "source": [
    "#### The time complexity for the above problem is:\n",
    "\n",
    "                O(a) + O(b) = O(a+b)"
   ]
  },
  {
   "cell_type": "markdown",
   "id": "09753309",
   "metadata": {},
   "source": [
    "#### 2\n",
    "\n",
    "Adding or removing items from the end of a list: Time complexity is O(1). \n",
    "\n",
    "Adding or removing items at the beginning of a list: Time complexity is O(n).\n",
    "\n",
    "This is due to the re-indexing that takes place at the beginning of the list."
   ]
  },
  {
   "cell_type": "markdown",
   "id": "52806ab9",
   "metadata": {},
   "source": [
    "# Terminology:"
   ]
  },
  {
   "cell_type": "markdown",
   "id": "e8e18638",
   "metadata": {},
   "source": [
    "#### O(n^2): Loop within a loop.\n",
    "    \n",
    "#### O(n): Proportional.\n",
    "\n",
    "#### O(logn): Divide and Conquer.\n",
    "\n",
    "#### O(1): Constant."
   ]
  },
  {
   "cell_type": "code",
   "execution_count": null,
   "id": "6e7b9d4c",
   "metadata": {},
   "outputs": [],
   "source": []
  }
 ],
 "metadata": {
  "kernelspec": {
   "display_name": "Python 3 (ipykernel)",
   "language": "python",
   "name": "python3"
  },
  "language_info": {
   "codemirror_mode": {
    "name": "ipython",
    "version": 3
   },
   "file_extension": ".py",
   "mimetype": "text/x-python",
   "name": "python",
   "nbconvert_exporter": "python",
   "pygments_lexer": "ipython3",
   "version": "3.9.12"
  }
 },
 "nbformat": 4,
 "nbformat_minor": 5
}
