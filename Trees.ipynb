{
 "cells": [
  {
   "cell_type": "markdown",
   "id": "bc558032",
   "metadata": {},
   "source": [
    "# BIG O\n",
    "\n",
    "For search, insert and remove, the time complexity is O(logn)."
   ]
  },
  {
   "cell_type": "code",
   "execution_count": 1,
   "id": "39e4cdf1",
   "metadata": {},
   "outputs": [],
   "source": [
    "class Node:\n",
    "    def __init__(self,value):\n",
    "        self.value = value\n",
    "        self.left = None\n",
    "        self.right = None"
   ]
  },
  {
   "cell_type": "code",
   "execution_count": 2,
   "id": "96706b22",
   "metadata": {},
   "outputs": [],
   "source": [
    "class BinarySearchTree:\n",
    "    def __init__(self):\n",
    "        #node = Node(value)\n",
    "        self.root = None\n",
    "# LENGTH IS NOT TRACKED IN  A TREE"
   ]
  },
  {
   "cell_type": "code",
   "execution_count": 3,
   "id": "16f307af",
   "metadata": {},
   "outputs": [],
   "source": [
    "def insert(self,value):\n",
    "    node = Node(value)\n",
    "    if self.root is None:\n",
    "        self.root = node\n",
    "        return True\n",
    "    temp = self.root\n",
    "    while(True):\n",
    "        if node.value == temp.value:\n",
    "            return False\n",
    "        if node.value < temp.value:\n",
    "            if temp.left is None:\n",
    "                temp.left = node\n",
    "                return True\n",
    "            temp = temp.left\n",
    "        else:\n",
    "            if temp.right is None:\n",
    "                temp.right = node\n",
    "                return True\n",
    "            temp = temp.right\n",
    "                "
   ]
  },
  {
   "cell_type": "code",
   "execution_count": 4,
   "id": "e7646c47",
   "metadata": {},
   "outputs": [],
   "source": [
    "def contains(self, value):\n",
    "    if self.root is None:\n",
    "        return False\n",
    "    temp = self.root\n",
    "    while temp is not None:\n",
    "        if value < temp.value:\n",
    "            temp = temp.left\n",
    "        elif value > temp.value:\n",
    "            temp = temp.right\n",
    "        else:\n",
    "            return True\n",
    "    return False"
   ]
  },
  {
   "cell_type": "markdown",
   "id": "63aa7006",
   "metadata": {},
   "source": [
    "# Recursive Binary Search Tree"
   ]
  },
  {
   "cell_type": "code",
   "execution_count": 1,
   "id": "bca06a26",
   "metadata": {},
   "outputs": [],
   "source": [
    "# recursive search\n",
    "\n",
    "def _r_contains(self, current_node, value):\n",
    "    if current_node == None:\n",
    "        return False\n",
    "    if value == current_node.value:\n",
    "        return True\n",
    "    if value < current_node.value:\n",
    "        return self._r_contains(current_node.left,value)\n",
    "    if value > current_node.value:\n",
    "        return self._r_contains(current_node.right,value)\n",
    "    \n",
    "def rcontains(self,value):\n",
    "    return self._r_contains(self.root,value)"
   ]
  },
  {
   "cell_type": "code",
   "execution_count": 2,
   "id": "a9d69aca",
   "metadata": {},
   "outputs": [],
   "source": [
    "# recursive insert\n",
    "\n",
    "def __r_insert(self, current_node, value):\n",
    "    if current_node == None:\n",
    "        return Node(value)\n",
    "    if value < current_node.value:\n",
    "        current_node.left = self.__r_insert(current_node.left, value)\n",
    "    if value > current_node.value:\n",
    "        current_node.right = self.__r_insert(current_node.right, value)\n",
    "    return current_node\n",
    "    \n",
    "def r_insert(self, value):\n",
    "    self.__r_insert(self.root,value)"
   ]
  },
  {
   "cell_type": "code",
   "execution_count": 3,
   "id": "ba61b992",
   "metadata": {},
   "outputs": [],
   "source": [
    "def min_value(self, current_node):\n",
    "    while current_node.left is not None:\n",
    "        current_node = current_node.left\n",
    "    return current_node.value"
   ]
  },
  {
   "cell_type": "code",
   "execution_count": 5,
   "id": "fa31b74e",
   "metadata": {},
   "outputs": [],
   "source": [
    "# deleting a node\n",
    "\n",
    "def __delete_node(self, current_node, value):\n",
    "    if current_node == None:\n",
    "        return None\n",
    "    if value < current_node.value:\n",
    "        current_node.left = self.__delete_node(current_node.left, value)\n",
    "    elif value > current_node.value:\n",
    "        current_node.right = self.__delete_node(current_node.right,value)\n",
    "    else:\n",
    "        if current_node.left == None and current_node.right == None:\n",
    "            return None\n",
    "        elif current_node.left == None:\n",
    "            current_node = current_node.right\n",
    "        elif current_node.right == None:\n",
    "            current_node = current_node.left\n",
    "        else:\n",
    "            mini = self.min_value(current_node.right)\n",
    "            current_node.value = mini\n",
    "            current_node.right = self.__delete_node(current_node.right, mini)\n",
    "    return current_node\n",
    "    \n",
    "def delete_node(self, value):\n",
    "    self.__delete_node(self.root,value)"
   ]
  },
  {
   "cell_type": "markdown",
   "id": "10c7b222",
   "metadata": {},
   "source": [
    "# Tree Traversal"
   ]
  },
  {
   "cell_type": "code",
   "execution_count": 5,
   "id": "06b39025",
   "metadata": {},
   "outputs": [],
   "source": [
    "def BFS(self):\n",
    "    current_node = self.root\n",
    "    queue = []\n",
    "    results = []\n",
    "    queue.append(current_node)\n",
    "    while len(queue) > 0:\n",
    "        current_node = queue.pop(0)\n",
    "        results.append(current_node.value)\n",
    "        if current_node.left is not None:\n",
    "            queue.append(current_node.left)\n",
    "        if current_node.right is not None:\n",
    "            queue.append(current_node.right)\n",
    "    return results"
   ]
  },
  {
   "cell_type": "code",
   "execution_count": 2,
   "id": "2fe9dcab",
   "metadata": {},
   "outputs": [],
   "source": [
    "def preorder(self):\n",
    "    results = []\n",
    "    def traverse(current_node):\n",
    "        results.append(current_node.value)\n",
    "        if current_node.left is not None:\n",
    "            traverse(current_node.left)\n",
    "        if current_node.right is not None:\n",
    "            traverse(current_node.right)\n",
    "    traverse(self.root)\n",
    "    return results"
   ]
  },
  {
   "cell_type": "code",
   "execution_count": 3,
   "id": "ab4bf9bc",
   "metadata": {},
   "outputs": [],
   "source": [
    "def postorder(self):\n",
    "    results = []\n",
    "    def traverse(current_node):\n",
    "        if current_node.left is not None:\n",
    "            traverse(current_node.left)\n",
    "        if current_node.right is not None:\n",
    "            traverse(current_node.right)\n",
    "        results.append(current_node.value)\n",
    "    traverse(self.root)\n",
    "    return results   "
   ]
  },
  {
   "cell_type": "code",
   "execution_count": 4,
   "id": "439f2114",
   "metadata": {},
   "outputs": [],
   "source": [
    "def inorder(self):\n",
    "    results = []\n",
    "    def traverse(current_node):\n",
    "        if current_node.left is not None:\n",
    "            traverse(current_node.left)\n",
    "        results.append(current_node.value)\n",
    "        if current_node.right is not None:\n",
    "            traverse(current_node.right)\n",
    "    traverse(self.root)\n",
    "    return results"
   ]
  },
  {
   "cell_type": "code",
   "execution_count": 6,
   "id": "94416e59",
   "metadata": {},
   "outputs": [],
   "source": [
    "class Node:\n",
    "    def __init__(self, value):\n",
    "        self.value = value\n",
    "        self.left = None\n",
    "        self.right = None\n",
    "        \n",
    "\n",
    "class BinarySearchTree:\n",
    "    def __init__(self):\n",
    "        self.root = None\n",
    "\n",
    "    def insert(self, value):\n",
    "        new_node = Node(value)\n",
    "        if self.root is None:\n",
    "            self.root = new_node\n",
    "            return True\n",
    "        temp = self.root\n",
    "        while (True):\n",
    "            if new_node.value == temp.value:\n",
    "                return False\n",
    "            if new_node.value < temp.value:\n",
    "                if temp.left is None:\n",
    "                    temp.left = new_node\n",
    "                    return True\n",
    "                temp = temp.left\n",
    "            else: \n",
    "                if temp.right is None:\n",
    "                    temp.right = new_node\n",
    "                    return True\n",
    "                temp = temp.right\n",
    "\n",
    "    # WRITE KTH_SMALLEST METHOD HERE #\n",
    "    def dfs_in_order(self):\n",
    "        results = []\n",
    "        def traverse(current_node):\n",
    "            if current_node.left is not None:\n",
    "                traverse(current_node.left)\n",
    "            results.append(current_node.value)\n",
    "            if current_node.right is not None:\n",
    "                traverse(current_node.right)\n",
    "        traverse(self.root)\n",
    "        return results\n",
    "    def kth_smallest(self, k):\n",
    "        if self.root is None:\n",
    "            return None\n",
    "        else:\n",
    "            result = self.dfs_in_order()\n",
    "            return result[k-1]"
   ]
  },
  {
   "cell_type": "code",
   "execution_count": 7,
   "id": "8542028c",
   "metadata": {},
   "outputs": [
    {
     "data": {
      "text/plain": [
       "True"
      ]
     },
     "execution_count": 7,
     "metadata": {},
     "output_type": "execute_result"
    }
   ],
   "source": [
    "bst = BinarySearchTree()\n",
    "\n",
    "bst.insert(5)\n",
    "bst.insert(3)\n",
    "bst.insert(7)\n",
    "bst.insert(2)\n",
    "bst.insert(4)\n",
    "bst.insert(6)\n",
    "bst.insert(8)"
   ]
  }
 ],
 "metadata": {
  "kernelspec": {
   "display_name": "Python 3 (ipykernel)",
   "language": "python",
   "name": "python3"
  },
  "language_info": {
   "codemirror_mode": {
    "name": "ipython",
    "version": 3
   },
   "file_extension": ".py",
   "mimetype": "text/x-python",
   "name": "python",
   "nbconvert_exporter": "python",
   "pygments_lexer": "ipython3",
   "version": "3.9.12"
  }
 },
 "nbformat": 4,
 "nbformat_minor": 5
}
