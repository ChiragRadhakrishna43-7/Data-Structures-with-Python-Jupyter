{
 "cells": [
  {
   "cell_type": "markdown",
   "id": "760c6e24",
   "metadata": {},
   "source": [
    "Heap is similar to a binary search tree.\n",
    "\n",
    "In a heap, the value of a node is always greater than the value of its descendants.]\n",
    "\n",
    "The highest/greatest value is always that of the root node.\n",
    "\n",
    "This is the case of the max heap.\n",
    "\n",
    "With respect to the min heap, the minimum value is at the root."
   ]
  },
  {
   "cell_type": "markdown",
   "id": "c6f60144",
   "metadata": {},
   "source": [
    "A heap is complete."
   ]
  },
  {
   "cell_type": "markdown",
   "id": "d8ba7e2b",
   "metadata": {},
   "source": [
    "A heap can have duplicates.\n",
    "\n",
    "A heap can be used to search for the largest value. It is not suitable for searching.\n"
   ]
  },
  {
   "cell_type": "code",
   "execution_count": 1,
   "id": "56115042",
   "metadata": {},
   "outputs": [],
   "source": [
    "# Heap is stored in the form of a list\n",
    "\n",
    "class MaxHeap:\n",
    "    def __init__(self):\n",
    "        self.heap = []\n",
    "        \n",
    "    def _left_child(self,index):\n",
    "        return 2 * index + 1\n",
    "    \n",
    "    def _right_child(self, index):\n",
    "        return 2 * index + 2\n",
    "    \n",
    "    def _parent(self, index):\n",
    "        return (index - 1)//2\n",
    "    \n",
    "    def _swap(self, index1, index2):\n",
    "        self.heap[index1], self.heap[index2] = self.heap[index2], self.heap[index1]\n",
    "    \n",
    "    def insert(self,value):\n",
    "        self.heap.append(value)\n",
    "        current = len(self.heap) - 1\n",
    "        \n",
    "        while current > 0 and self.heap[current] > self.heap[self._parent(current)]:\n",
    "            self._swap(current, self._parent(current))\n",
    "            current = self._parent(current)\n",
    "            "
   ]
  },
  {
   "cell_type": "code",
   "execution_count": 3,
   "id": "8e347567",
   "metadata": {},
   "outputs": [],
   "source": [
    "def _sink_down(self, index):\n",
    "    max_index = index\n",
    "    while True:\n",
    "        left_index = self._left_child(index)\n",
    "        right_index = self._right_child(index)\n",
    "        if (left_index<len(self.heap) and self.heap[left_index] > self.heap[max_index]):\n",
    "            max_index = left_index\n",
    "        if (right_index<len(self.heap) and self.heap[right_index] > self.heap[max_index]):\n",
    "            max_index = right_index\n",
    "        if max_index != index:\n",
    "            self._swap(index, max_index)\n",
    "            index = max_index\n",
    "        else:\n",
    "            return"
   ]
  },
  {
   "cell_type": "code",
   "execution_count": 4,
   "id": "072293b6",
   "metadata": {},
   "outputs": [],
   "source": [
    "# Heaps, we always remove the top node. The objective is to still have a complete tree.\n",
    "\n",
    "def remove(self):\n",
    "    if len(self.heap) == 0:\n",
    "        return None\n",
    "    if len(self.heap) == 1:\n",
    "        return self.heap.pop()\n",
    "    max_value = self.heap[0]\n",
    "    self.heap[0] = self.heap.pop()\n",
    "    self._sink_down(0)\n",
    "    return max_value"
   ]
  },
  {
   "cell_type": "markdown",
   "id": "d6af3202",
   "metadata": {},
   "source": [
    "# Minimum Heap"
   ]
  },
  {
   "cell_type": "code",
   "execution_count": 3,
   "id": "6c4c4362",
   "metadata": {},
   "outputs": [],
   "source": [
    "class MinHeap:\n",
    "    def __init__(self):\n",
    "        self.heap = []\n",
    "    def _left_child(self, index):\n",
    "        return 2 * index + 1\n",
    "    def _right_child(self, index):\n",
    "        return 2 * index + 2\n",
    "    def _parent(self,index):\n",
    "        return (index-1)//2\n",
    "    def _swap(self, index1, index2):\n",
    "        self.heap[index1] , self.heap[index2] = self.heap[index2], self.heap[index1]\n",
    "    def insert(self, value):\n",
    "        self.heap.append(value)\n",
    "        current = len(self.heap) - 1\n",
    "        while current > 0 and self.heap[current] < self.heap[self._parent(current)]:\n",
    "            self._swap(current, self._parent(current))\n",
    "            current = self._parent(current)\n",
    "    def _sink_down(self, index):\n",
    "        min_index = index\n",
    "        while True:\n",
    "            left_index = self._left_child(index)\n",
    "            right_index = self._right_index(index)\n",
    "            if (left_index<len(self.heap) and self.heap[left_index] < self.heap[min_index]):\n",
    "                min_index = left_index\n",
    "            if (right_index<len(self.heap) and self.heap[right_index] < self.heap[min_index]):\n",
    "                min_index = right_index\n",
    "            if min_index != index:\n",
    "                self._swap(index, min_index)\n",
    "                index = min_index\n",
    "            else:\n",
    "                return\n",
    "    def remove(self):\n",
    "        if len(self.heap) == 0:\n",
    "            return None\n",
    "        if len(self.heap) == 1:\n",
    "            return self.heap.pop()\n",
    "        min_value = self.heap[0]\n",
    "        self.heap[0] = self.heap.pop()\n",
    "        self._sink_down(0)\n",
    "        return min_value"
   ]
  }
 ],
 "metadata": {
  "kernelspec": {
   "display_name": "Python 3 (ipykernel)",
   "language": "python",
   "name": "python3"
  },
  "language_info": {
   "codemirror_mode": {
    "name": "ipython",
    "version": 3
   },
   "file_extension": ".py",
   "mimetype": "text/x-python",
   "name": "python",
   "nbconvert_exporter": "python",
   "pygments_lexer": "ipython3",
   "version": "3.9.12"
  }
 },
 "nbformat": 4,
 "nbformat_minor": 5
}
