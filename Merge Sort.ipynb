{
 "cells": [
  {
   "cell_type": "code",
   "execution_count": 1,
   "id": "f60c9fbb",
   "metadata": {},
   "outputs": [],
   "source": [
    "def merge(list1, list2):\n",
    "    combined = []\n",
    "    i = 0\n",
    "    j = 0\n",
    "    while i < len(list1) and j < len(list2):\n",
    "        if list1[i] < list2[j]:\n",
    "            combined.append(list1[i])\n",
    "            i += 1\n",
    "        else:\n",
    "            combined.append(list2[j])\n",
    "            j += 1\n",
    "    while i < len(list1):\n",
    "        combined.append(list1[i])\n",
    "        i += 1\n",
    "    while j < len(list2):\n",
    "        combined.append(list2[j])\n",
    "        j += 1\n",
    "    return combined"
   ]
  },
  {
   "cell_type": "code",
   "execution_count": 2,
   "id": "7636d5ed",
   "metadata": {},
   "outputs": [],
   "source": [
    "def merge_sort(my_list):\n",
    "    if len(my_list) == 1:\n",
    "        return my_list\n",
    "    mid_index = int(len(my_list)/2)\n",
    "    left = merge_sort(my_list[:mid_index])\n",
    "    right = merge_sort(my_list[mid_index:])\n",
    "    return merge(left, right)"
   ]
  }
 ],
 "metadata": {
  "kernelspec": {
   "display_name": "Python 3 (ipykernel)",
   "language": "python",
   "name": "python3"
  },
  "language_info": {
   "codemirror_mode": {
    "name": "ipython",
    "version": 3
   },
   "file_extension": ".py",
   "mimetype": "text/x-python",
   "name": "python",
   "nbconvert_exporter": "python",
   "pygments_lexer": "ipython3",
   "version": "3.9.12"
  }
 },
 "nbformat": 4,
 "nbformat_minor": 5
}
