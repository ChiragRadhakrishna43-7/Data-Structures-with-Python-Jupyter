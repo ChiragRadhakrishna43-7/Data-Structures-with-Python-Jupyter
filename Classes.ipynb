{
 "cells": [
  {
   "cell_type": "markdown",
   "id": "ae06877b",
   "metadata": {},
   "source": [
    "Class is a blueprint that helps us define a set of related objects."
   ]
  },
  {
   "cell_type": "code",
   "execution_count": 4,
   "id": "4d0fe2c9",
   "metadata": {},
   "outputs": [],
   "source": [
    "class Car:\n",
    "    def __init__(self,color):\n",
    "        self.color = color\n",
    "        \n",
    "    def get_color(self):\n",
    "        return self.color\n",
    "    \n",
    "    def set_color(self,color):\n",
    "        self.color = color"
   ]
  },
  {
   "cell_type": "code",
   "execution_count": 5,
   "id": "ca0870b0",
   "metadata": {},
   "outputs": [],
   "source": [
    "mercedes = Car('Red') # constructor helps us create new objects"
   ]
  },
  {
   "cell_type": "code",
   "execution_count": 6,
   "id": "e8220fb4",
   "metadata": {},
   "outputs": [],
   "source": [
    "ferrari = Car('Red')"
   ]
  }
 ],
 "metadata": {
  "kernelspec": {
   "display_name": "Python 3 (ipykernel)",
   "language": "python",
   "name": "python3"
  },
  "language_info": {
   "codemirror_mode": {
    "name": "ipython",
    "version": 3
   },
   "file_extension": ".py",
   "mimetype": "text/x-python",
   "name": "python",
   "nbconvert_exporter": "python",
   "pygments_lexer": "ipython3",
   "version": "3.9.12"
  }
 },
 "nbformat": 4,
 "nbformat_minor": 5
}
