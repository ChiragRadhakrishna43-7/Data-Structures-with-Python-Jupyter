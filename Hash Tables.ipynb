{
 "cells": [
  {
   "cell_type": "markdown",
   "id": "6828bf2e",
   "metadata": {},
   "source": [
    "Hash Tables are one way and deterministic"
   ]
  },
  {
   "cell_type": "code",
   "execution_count": 1,
   "id": "bfd818f7",
   "metadata": {},
   "outputs": [],
   "source": [
    "# constructor for a hash table\n",
    "\n",
    "# have prime number of addresses. It reduces the chance of collisions through the increase in randomness. \n",
    "\n",
    "class HashTable:\n",
    "    def __init__(self,size = 7):\n",
    "        self.data_map = [None] * size\n",
    "        \n",
    "    def _hash(self, key):\n",
    "        my_hash = 0\n",
    "        for letter in key:\n",
    "            my_hash = (my_hash + ord(letter) *23) % len(self._data_map)\n",
    "        return my_hash\n",
    "    \n",
    "    def print_table(self):\n",
    "        for i, val in enumerate(self.data_map):\n",
    "            print(i,\":\",val)\n",
    "            \n",
    "    def set_item(self, key, value):\n",
    "        index = self._hash(key)\n",
    "        if self.data_map[index] == None:\n",
    "            self.data_map[index] = []\n",
    "        self.data_map[index].append([key,value])\n",
    "        \n",
    "    def get_item(self, key):\n",
    "        index = self._hash(key)\n",
    "        if self.data_map[index] is not None:\n",
    "            for i in range(len(self.data_map[index])):\n",
    "                if self.data_map[index][i][0] == key:\n",
    "                    return self.data_map[index][i][1]\n",
    "        return None\n",
    "    \n",
    "    def keys(self):\n",
    "        all_keys = []\n",
    "        for i  in range(len(self.data_map)):\n",
    "            if self.data_map[i] is not None:\n",
    "                for j in range(len(self.data_map[i])):\n",
    "                    all_keys.append(self.data_map[i][j][0])\n",
    "        return all_keys     "
   ]
  }
 ],
 "metadata": {
  "kernelspec": {
   "display_name": "Python 3 (ipykernel)",
   "language": "python",
   "name": "python3"
  },
  "language_info": {
   "codemirror_mode": {
    "name": "ipython",
    "version": 3
   },
   "file_extension": ".py",
   "mimetype": "text/x-python",
   "name": "python",
   "nbconvert_exporter": "python",
   "pygments_lexer": "ipython3",
   "version": "3.9.12"
  }
 },
 "nbformat": 4,
 "nbformat_minor": 5
}
