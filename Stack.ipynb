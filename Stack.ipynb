{
 "cells": [
  {
   "cell_type": "markdown",
   "id": "b6e1224f",
   "metadata": {},
   "source": [
    "## Stack is based on the LIFO principle"
   ]
  },
  {
   "cell_type": "code",
   "execution_count": 2,
   "id": "6ef288bd",
   "metadata": {},
   "outputs": [],
   "source": [
    "class Node:\n",
    "    def __init__(self,value):\n",
    "        self.value = value\n",
    "        self.next = None\n",
    "        \n",
    "class Stack:\n",
    "    def __init(self,value):\n",
    "        node = Node(value)\n",
    "        self.top = node\n",
    "        self.height = 1\n",
    "        \n",
    "    def print(self):\n",
    "        temp = self.top\n",
    "        while temp is not None:\n",
    "            print(temp.value)\n",
    "            temp = temp.next\n",
    "            \n",
    "    def push(self,value):\n",
    "        node = Node(value)\n",
    "        if self.top is None:\n",
    "            self.top = node\n",
    "        else:\n",
    "            node.next = self.top\n",
    "            self.top = node\n",
    "        self.height += 1\n",
    "            \n",
    "    def pop(self):\n",
    "        if self.top is None:\n",
    "            return None\n",
    "        temp = self.top\n",
    "        if self.height == 1:\n",
    "            self.top = None\n",
    "        else:\n",
    "            self.top = temp.next\n",
    "            temp.next = None\n",
    "        self.height -= 1\n",
    "        return temp\n"
   ]
  },
  {
   "cell_type": "markdown",
   "id": "227adffa",
   "metadata": {},
   "source": [
    "# Exercises"
   ]
  },
  {
   "cell_type": "code",
   "execution_count": 3,
   "id": "6c1c41ae",
   "metadata": {},
   "outputs": [],
   "source": [
    "# stack constructor\n",
    "\n",
    "class Node:\n",
    "    def __init__(self,value):\n",
    "        self.value = value\n",
    "        self.next = None\n",
    "        \n",
    "class Stack:\n",
    "    def __init__(self,value):\n",
    "        node = Node(value)\n",
    "        self.top = node\n",
    "        self.height = 1"
   ]
  },
  {
   "cell_type": "code",
   "execution_count": 4,
   "id": "27a016c9",
   "metadata": {},
   "outputs": [],
   "source": [
    "# push an element to the stack\n",
    "\n",
    "def push(self,value):\n",
    "    node = Node(value)\n",
    "    if self.top is None:\n",
    "        self.top = node\n",
    "    else:\n",
    "        node.next = self.top\n",
    "        self.top = node\n",
    "    self.height +=1"
   ]
  },
  {
   "cell_type": "code",
   "execution_count": 5,
   "id": "c25ed0cd",
   "metadata": {},
   "outputs": [],
   "source": [
    "# pop an element\n",
    "\n",
    "def pop(self):\n",
    "    if self.top is None:\n",
    "        return None\n",
    "    temp = self.top\n",
    "    if self.height == 1:\n",
    "        self.top = None\n",
    "    else:\n",
    "        self.top = temp.next\n",
    "        temp.next = None\n",
    "    self.height -= 1\n",
    "    return temp"
   ]
  },
  {
   "cell_type": "markdown",
   "id": "393dde45",
   "metadata": {},
   "source": [
    "## Implement stack using list"
   ]
  },
  {
   "cell_type": "code",
   "execution_count": 2,
   "id": "b4f3e564",
   "metadata": {},
   "outputs": [],
   "source": [
    "class Stack:\n",
    "    def __init__(self):\n",
    "        self.stack_list = []      "
   ]
  },
  {
   "cell_type": "code",
   "execution_count": 3,
   "id": "bded656b",
   "metadata": {},
   "outputs": [],
   "source": [
    "def push(self,value):\n",
    "    self.stack_list.append(value)"
   ]
  },
  {
   "cell_type": "code",
   "execution_count": 5,
   "id": "053827b1",
   "metadata": {},
   "outputs": [],
   "source": [
    "def pop(self):\n",
    "    if self.is_empty():\n",
    "        return None\n",
    "    else:\n",
    "        return self.stack_list.pop()"
   ]
  },
  {
   "cell_type": "code",
   "execution_count": null,
   "id": "4b57664a",
   "metadata": {},
   "outputs": [],
   "source": []
  },
  {
   "cell_type": "code",
   "execution_count": 6,
   "id": "1832f30e",
   "metadata": {},
   "outputs": [],
   "source": [
    "def is_balanced_parenthesis(parenthesis):\n",
    "    stack = Stack()\n",
    "    for p in parenthesis:\n",
    "        if p == '(':\n",
    "            stack.push(p)\n",
    "        elif p == ')':\n",
    "            if stack.is_empty() or stack.pop() != '(':\n",
    "                return False\n",
    "    return stack.is_empty()"
   ]
  },
  {
   "cell_type": "code",
   "execution_count": 7,
   "id": "aafe13b7",
   "metadata": {},
   "outputs": [],
   "source": [
    "def reverse_string(string):\n",
    "    stack = Stack()\n",
    "    reverse = \"\"\n",
    "    for p in string:\n",
    "        stack.push(p)\n",
    "    while not stack.is_empty():\n",
    "        reverse += stack.pop()\n",
    "        \n",
    "    return reverse"
   ]
  },
  {
   "cell_type": "code",
   "execution_count": 8,
   "id": "b106afae",
   "metadata": {},
   "outputs": [],
   "source": [
    "def sort_stack(stack):\n",
    "    additional_stack = Stack()\n",
    "    \n",
    "    while not stack.is_empty():\n",
    "        temp = stack.pop()\n",
    "        while not additional_stack.is_empty() and additional_stack.peek() > temp:\n",
    "            stack.push(additional_stack.pop())\n",
    "        additional_stack.push(temp)\n",
    "    \n",
    "    while not additional_stack.is_empty():\n",
    "        stack.push(additional_stack.pop())"
   ]
  },
  {
   "cell_type": "code",
   "execution_count": null,
   "id": "3cbdf543",
   "metadata": {},
   "outputs": [],
   "source": []
  }
 ],
 "metadata": {
  "kernelspec": {
   "display_name": "Python 3 (ipykernel)",
   "language": "python",
   "name": "python3"
  },
  "language_info": {
   "codemirror_mode": {
    "name": "ipython",
    "version": 3
   },
   "file_extension": ".py",
   "mimetype": "text/x-python",
   "name": "python",
   "nbconvert_exporter": "python",
   "pygments_lexer": "ipython3",
   "version": "3.9.12"
  }
 },
 "nbformat": 4,
 "nbformat_minor": 5
}
