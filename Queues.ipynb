{
 "cells": [
  {
   "cell_type": "markdown",
   "id": "c6c68abd",
   "metadata": {},
   "source": [
    "## Queues are based on the FIFO principle"
   ]
  },
  {
   "cell_type": "code",
   "execution_count": 21,
   "id": "a36b4cd6",
   "metadata": {},
   "outputs": [],
   "source": [
    "class Node:\n",
    "    def __init__(self,value):\n",
    "        self.value = value\n",
    "        self.next = None\n",
    "\n",
    "class Queue:\n",
    "    def __init__(self,value):\n",
    "        node = Node(value)\n",
    "        self.first = node\n",
    "        self.last = node\n",
    "        self.length = 1\n",
    "        \n",
    "    def print_queue(self):\n",
    "        temp = self.first\n",
    "        while temp is not None:\n",
    "            print(temp.value)\n",
    "            temp = temp.next\n",
    "            \n",
    "    def enqueue(self,value):\n",
    "        node = Node(value)\n",
    "        if self.first is None:\n",
    "            self.first = node\n",
    "            self.last = node\n",
    "        else:\n",
    "            self.last.next = node\n",
    "            node.next = None\n",
    "            self.last = node\n",
    "        self.length += 1\n",
    "        \n",
    "    def dequeue(self):\n",
    "        if self.first is None:\n",
    "            return None\n",
    "        temp = self.first\n",
    "        if self.length == 1:\n",
    "            self.first = self.last = None\n",
    "        else:\n",
    "            self.first = temp.next\n",
    "            temp.next = None\n",
    "        self.length -= 1\n",
    "        return temp"
   ]
  },
  {
   "cell_type": "code",
   "execution_count": 22,
   "id": "87530864",
   "metadata": {},
   "outputs": [],
   "source": [
    "my_queue = Queue(7)"
   ]
  },
  {
   "cell_type": "code",
   "execution_count": 23,
   "id": "fc2cc63d",
   "metadata": {},
   "outputs": [
    {
     "name": "stdout",
     "output_type": "stream",
     "text": [
      "7\n"
     ]
    }
   ],
   "source": [
    "my_queue.print_queue()"
   ]
  },
  {
   "cell_type": "code",
   "execution_count": 24,
   "id": "55d4de84",
   "metadata": {},
   "outputs": [],
   "source": [
    "my_queue.enqueue(3)"
   ]
  },
  {
   "cell_type": "code",
   "execution_count": 25,
   "id": "79422044",
   "metadata": {},
   "outputs": [
    {
     "name": "stdout",
     "output_type": "stream",
     "text": [
      "7\n",
      "3\n"
     ]
    }
   ],
   "source": [
    "my_queue.print_queue()"
   ]
  },
  {
   "cell_type": "code",
   "execution_count": 27,
   "id": "cab9cc82",
   "metadata": {},
   "outputs": [
    {
     "data": {
      "text/plain": [
       "<__main__.Node at 0x204f6318e50>"
      ]
     },
     "execution_count": 27,
     "metadata": {},
     "output_type": "execute_result"
    }
   ],
   "source": [
    "my_queue.dequeue()"
   ]
  },
  {
   "cell_type": "code",
   "execution_count": 28,
   "id": "93872129",
   "metadata": {},
   "outputs": [
    {
     "name": "stdout",
     "output_type": "stream",
     "text": [
      "3\n"
     ]
    }
   ],
   "source": [
    "my_queue.print_queue()"
   ]
  }
 ],
 "metadata": {
  "kernelspec": {
   "display_name": "Python 3 (ipykernel)",
   "language": "python",
   "name": "python3"
  },
  "language_info": {
   "codemirror_mode": {
    "name": "ipython",
    "version": 3
   },
   "file_extension": ".py",
   "mimetype": "text/x-python",
   "name": "python",
   "nbconvert_exporter": "python",
   "pygments_lexer": "ipython3",
   "version": "3.9.12"
  }
 },
 "nbformat": 4,
 "nbformat_minor": 5
}
