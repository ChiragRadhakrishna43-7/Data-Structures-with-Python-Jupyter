{
 "cells": [
  {
   "cell_type": "code",
   "execution_count": 2,
   "id": "1a0f8368",
   "metadata": {},
   "outputs": [],
   "source": [
    "def swap(lst, a, b):\n",
    "    temp = lst[a]\n",
    "    lst[a] = lst[b]\n",
    "    lst[b] = temp\n",
    "    \n",
    "def pivot(lst, pivot, end):\n",
    "    swap_index = pivot\n",
    "    for i in range(pivot + 1, end + 1):\n",
    "        if lst[i] < lst[pivot]:\n",
    "            swap_index += 1\n",
    "            swap(lst, swap_index, i)\n",
    "    swap(lst, pivot, swap_index)\n",
    "    return swap_index\n",
    "\n",
    "def quick_sort(my_list,left,right):\n",
    "    if left<right:\n",
    "        pivot_index = pivot(my_list, left , right)\n",
    "        quick_sort(my_list, left, pivot_index-1)\n",
    "        quick_sort(my_list, pivot_index+1, right)\n",
    "    return my_list\n",
    "\n",
    "def quicksort(my_list):\n",
    "    return quick_sort(my_list, 0, len(my_list)-1)"
   ]
  },
  {
   "cell_type": "code",
   "execution_count": 3,
   "id": "29b79c6c",
   "metadata": {},
   "outputs": [
    {
     "name": "stdout",
     "output_type": "stream",
     "text": [
      "[1, 2, 3, 4, 5, 6, 7]\n"
     ]
    }
   ],
   "source": [
    "print(quicksort([4,6,1,7,3,2,5]))"
   ]
  }
 ],
 "metadata": {
  "kernelspec": {
   "display_name": "Python 3 (ipykernel)",
   "language": "python",
   "name": "python3"
  },
  "language_info": {
   "codemirror_mode": {
    "name": "ipython",
    "version": 3
   },
   "file_extension": ".py",
   "mimetype": "text/x-python",
   "name": "python",
   "nbconvert_exporter": "python",
   "pygments_lexer": "ipython3",
   "version": "3.9.12"
  }
 },
 "nbformat": 4,
 "nbformat_minor": 5
}
